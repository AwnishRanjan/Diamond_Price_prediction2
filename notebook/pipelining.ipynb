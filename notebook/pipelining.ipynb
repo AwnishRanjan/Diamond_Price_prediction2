{
 "cells": [
  {
   "cell_type": "code",
   "execution_count": 2,
   "metadata": {},
   "outputs": [],
   "source": [
    "import pandas as pd \n",
    "import numpy as np "
   ]
  },
  {
   "cell_type": "code",
   "execution_count": 3,
   "metadata": {},
   "outputs": [],
   "source": [
    "df = pd.read_csv(r'E:\\Diamond price prediction\\notebook\\data\\gemstone.csv')"
   ]
  },
  {
   "cell_type": "code",
   "execution_count": 4,
   "metadata": {},
   "outputs": [],
   "source": [
    "df.drop(columns='id',axis=1 , inplace=True)"
   ]
  },
  {
   "cell_type": "code",
   "execution_count": 5,
   "metadata": {},
   "outputs": [],
   "source": [
    "X = df.drop(labels=['price'],axis=1)\n",
    "y = df[['price']]"
   ]
  },
  {
   "cell_type": "code",
   "execution_count": 6,
   "metadata": {},
   "outputs": [],
   "source": [
    "categorical_cols = X.select_dtypes(include='object').columns\n",
    "numerical_cols = X.select_dtypes(exclude='object').columns"
   ]
  },
  {
   "cell_type": "code",
   "execution_count": 8,
   "metadata": {},
   "outputs": [
    {
     "data": {
      "text/plain": [
       "Index(['carat', 'depth', 'table', 'x', 'y', 'z'], dtype='object')"
      ]
     },
     "execution_count": 8,
     "metadata": {},
     "output_type": "execute_result"
    }
   ],
   "source": [
    "numerical_cols"
   ]
  },
  {
   "cell_type": "code",
   "execution_count": 11,
   "metadata": {},
   "outputs": [],
   "source": [
    "# from domain website  RANKED \n",
    "cut_map = ['Fair' ,'Good' ,'Very Good' ,'Premium' ,'Ideal']\n",
    "clearity_map = ['I1' ,'SI2' ,'SI1' ,'VS2' ,  'VS1' ,'VVS2' , 'VVS1' , 'IF']\n",
    "colour_map = ['D','E','F','G','H','I','J']"
   ]
  },
  {
   "cell_type": "markdown",
   "metadata": {},
   "source": [
    "pipelining : we have to automate the handing for  categorical variables , standard scalar, missing values "
   ]
  },
  {
   "cell_type": "code",
   "execution_count": 12,
   "metadata": {},
   "outputs": [],
   "source": [
    "# for data \n",
    "from sklearn.impute import SimpleImputer  # impute null values to what we want \n",
    "from sklearn.preprocessing import StandardScaler # to scale \n",
    "from sklearn.preprocessing import OrdinalEncoder  #categories to rank "
   ]
  },
  {
   "cell_type": "code",
   "execution_count": 15,
   "metadata": {},
   "outputs": [],
   "source": [
    "# for automate pipelining \n",
    "from sklearn.pipeline import Pipeline\n",
    "from sklearn.compose import ColumnTransformer  # to join the pipelines "
   ]
  },
  {
   "cell_type": "markdown",
   "metadata": {},
   "source": [
    "we have to make two pipleines for num/cat data "
   ]
  },
  {
   "cell_type": "code",
   "execution_count": 26,
   "metadata": {},
   "outputs": [],
   "source": [
    "numerical_pipeline = Pipeline(\n",
    "    steps = [('imputer',SimpleImputer(strategy='median')),\n",
    "             ('scaler',StandardScaler())\n",
    "    ]\n",
    ")\n",
    "\n",
    "categorical_pipeline =  Pipeline(\n",
    "    steps=[\n",
    "        ('imputer',SimpleImputer(strategy='most_frequent')),\n",
    "        ('encoder', OrdinalEncoder(categories=[cut_map,colour_map,clearity_map])),\n",
    "        ('scaler',StandardScaler())\n",
    "    ]\n",
    ")"
   ]
  },
  {
   "cell_type": "code",
   "execution_count": 27,
   "metadata": {},
   "outputs": [],
   "source": [
    "# join these pipelines \n",
    "preprocesser = ColumnTransformer(\n",
    "    transformers=[('numerical_pipe',numerical_pipeline,numerical_cols),\n",
    "                  ('categorical_pipe',categorical_pipeline,categorical_cols)\n",
    "    ]\n",
    "\n",
    ")\n",
    "\n"
   ]
  },
  {
   "cell_type": "code",
   "execution_count": 28,
   "metadata": {},
   "outputs": [],
   "source": [
    "# train test split \n",
    "from sklearn.model_selection import train_test_split\n",
    "\n",
    "X_train,X_test,y_train,y_test = train_test_split(X,y,test_size=0.30,random_state=42)"
   ]
  },
  {
   "cell_type": "code",
   "execution_count": 29,
   "metadata": {},
   "outputs": [],
   "source": [
    "X_train = pd.DataFrame(preprocesser.fit_transform(X_train),columns=preprocesser.get_feature_names_out())\n",
    "X_test = pd.DataFrame(preprocesser.transform(X_test),columns=preprocesser.get_feature_names_out())"
   ]
  },
  {
   "cell_type": "code",
   "execution_count": 36,
   "metadata": {},
   "outputs": [],
   "source": [
    "from sklearn.linear_model import LinearRegression,Ridge,Lasso,ElasticNet\n",
    "from sklearn.metrics import r2_score,mean_absolute_error,mean_squared_error"
   ]
  },
  {
   "cell_type": "code",
   "execution_count": 41,
   "metadata": {},
   "outputs": [],
   "source": [
    "def evaluate_model(true, predicted):\n",
    "    mae  = mean_squared_error(true,predicted)\n",
    "    mse  = mean_absolute_error(true,predicted)\n",
    "    r2_square  = r2_score(true, predicted)\n",
    "    rmse = np.sqrt(mse)\n",
    "\n",
    "    return mae, mse ,r2_square,rmse "
   ]
  },
  {
   "cell_type": "code",
   "execution_count": 43,
   "metadata": {},
   "outputs": [
    {
     "name": "stdout",
     "output_type": "stream",
     "text": [
      "LinearRegression\n",
      "Model Training perfomance \n",
      "MSE :  678.6599280042687\n",
      "RMSE :  26.051102241637853\n",
      "MAE :  1030398.1767863379\n",
      "r2_score :  0.9362334489637524\n",
      "===================================\n",
      "\n",
      "\n",
      "Lasso,\n",
      "Model Training perfomance \n",
      "MSE :  679.936239443818\n",
      "RMSE :  26.075587039294398\n",
      "MAE :  1030358.896587914\n",
      "r2_score :  0.9362358798325504\n",
      "===================================\n",
      "\n",
      "\n",
      "Ridge\n",
      "Model Training perfomance \n",
      "MSE :  678.6934635146449\n",
      "RMSE :  26.05174588227524\n",
      "MAE :  1030402.7644628948\n",
      "r2_score :  0.9362331650537865\n",
      "===================================\n",
      "\n",
      "\n",
      "ElasticNet\n",
      "Model Training perfomance \n",
      "MSE :  1065.7688041796291\n",
      "RMSE :  32.646114687350305\n",
      "MAE :  2329237.260977818\n",
      "r2_score :  0.855854338619943\n",
      "===================================\n",
      "\n",
      "\n"
     ]
    }
   ],
   "source": [
    "models = {\n",
    "    'LinearRegression' : LinearRegression(),\n",
    "    'Lasso,': Lasso(),\n",
    "    'Ridge':Ridge(),\n",
    "    'ElasticNet': ElasticNet()\n",
    "}\n",
    "\n",
    "train_model_list = []\n",
    "model_list  = []\n",
    "r2_list = []\n",
    "\n",
    "\n",
    "for  i in range(len(list(models))):\n",
    "     model = list(models.values())[i]\n",
    "     model.fit(X_train,y_train)\n",
    "\n",
    "     y_pred = model.predict(X_test)\n",
    "\n",
    "     mae, mse , r2_square ,rmse = evaluate_model(y_test,y_pred)\n",
    "\n",
    "     print(list(models.keys())[i])\n",
    "     model_list.append(list(models.keys())[i])\n",
    "\n",
    "     print('Model Training perfomance ')\n",
    "\n",
    "     print('MSE : ',  mse )\n",
    "     print('RMSE : ', rmse )\n",
    "     print('MAE : ',  mae )\n",
    "     print('r2_score : ',  r2_square)\n",
    "\n",
    "     r2_list.append(r2_square)\n",
    "\n",
    "     print('='*35)\n",
    "     print('\\n')\n"
   ]
  },
  {
   "cell_type": "code",
   "execution_count": 44,
   "metadata": {},
   "outputs": [
    {
     "data": {
      "text/plain": [
       "['LinearRegression', 'Lasso,', 'Ridge', 'ElasticNet']"
      ]
     },
     "execution_count": 44,
     "metadata": {},
     "output_type": "execute_result"
    }
   ],
   "source": [
    "model_list"
   ]
  },
  {
   "cell_type": "code",
   "execution_count": 47,
   "metadata": {},
   "outputs": [
    {
     "data": {
      "text/plain": [
       "[0.9362334489637524, 0.9362358798325504, 0.9362331650537865, 0.855854338619943]"
      ]
     },
     "execution_count": 47,
     "metadata": {},
     "output_type": "execute_result"
    }
   ],
   "source": [
    "r2_list\n"
   ]
  },
  {
   "cell_type": "code",
   "execution_count": null,
   "metadata": {},
   "outputs": [],
   "source": []
  }
 ],
 "metadata": {
  "kernelspec": {
   "display_name": "base",
   "language": "python",
   "name": "python3"
  },
  "language_info": {
   "codemirror_mode": {
    "name": "ipython",
    "version": 3
   },
   "file_extension": ".py",
   "mimetype": "text/x-python",
   "name": "python",
   "nbconvert_exporter": "python",
   "pygments_lexer": "ipython3",
   "version": "3.11.5"
  }
 },
 "nbformat": 4,
 "nbformat_minor": 2
}
